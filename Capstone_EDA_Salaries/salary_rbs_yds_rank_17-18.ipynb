{
 "cells": [
  {
   "cell_type": "markdown",
   "metadata": {},
   "source": [
    "# RBS Salary Yds Rank"
   ]
  },
  {
   "cell_type": "code",
   "execution_count": 1,
   "metadata": {},
   "outputs": [],
   "source": [
    "import pandas as pd"
   ]
  },
  {
   "cell_type": "code",
   "execution_count": 2,
   "metadata": {},
   "outputs": [],
   "source": [
    "salary = pd.read_csv('../Capstone_csv_file/salary_edited_to_fit_17-18')"
   ]
  },
  {
   "cell_type": "code",
   "execution_count": 3,
   "metadata": {},
   "outputs": [],
   "source": [
    "rbs = pd.read_csv('../Capstone_csv_file/rbs_yds_rank_17-18')\n",
    "\n",
    "rbs.set_index('NAME', inplace = True)\n",
    "\n",
    "rbs_final_salary = rbs.merge(salary, on = 'NAME')\n",
    "\n",
    "rbs_final_salary.set_index('NAME', inplace = True)"
   ]
  },
  {
   "cell_type": "code",
   "execution_count": 4,
   "metadata": {},
   "outputs": [
    {
     "data": {
      "text/html": [
       "<div>\n",
       "<style scoped>\n",
       "    .dataframe tbody tr th:only-of-type {\n",
       "        vertical-align: middle;\n",
       "    }\n",
       "\n",
       "    .dataframe tbody tr th {\n",
       "        vertical-align: top;\n",
       "    }\n",
       "\n",
       "    .dataframe thead th {\n",
       "        text-align: right;\n",
       "    }\n",
       "</style>\n",
       "<table border=\"1\" class=\"dataframe\">\n",
       "  <thead>\n",
       "    <tr style=\"text-align: right;\">\n",
       "      <th></th>\n",
       "      <th>YDS</th>\n",
       "      <th>YDS_rank</th>\n",
       "      <th>salary</th>\n",
       "    </tr>\n",
       "    <tr>\n",
       "      <th>NAME</th>\n",
       "      <th></th>\n",
       "      <th></th>\n",
       "      <th></th>\n",
       "    </tr>\n",
       "  </thead>\n",
       "  <tbody>\n",
       "    <tr>\n",
       "      <th>Todd Gurley</th>\n",
       "      <td>1305</td>\n",
       "      <td>2.0</td>\n",
       "      <td>3455796</td>\n",
       "    </tr>\n",
       "    <tr>\n",
       "      <th>Le'Veon Bell</th>\n",
       "      <td>1291</td>\n",
       "      <td>3.0</td>\n",
       "      <td>12120000</td>\n",
       "    </tr>\n",
       "    <tr>\n",
       "      <th>LeSean McCoy</th>\n",
       "      <td>1138</td>\n",
       "      <td>4.0</td>\n",
       "      <td>8000000</td>\n",
       "    </tr>\n",
       "    <tr>\n",
       "      <th>Mark Ingram</th>\n",
       "      <td>1124</td>\n",
       "      <td>5.0</td>\n",
       "      <td>4000000</td>\n",
       "    </tr>\n",
       "    <tr>\n",
       "      <th>Melvin Gordon</th>\n",
       "      <td>1105</td>\n",
       "      <td>7.0</td>\n",
       "      <td>2667443</td>\n",
       "    </tr>\n",
       "  </tbody>\n",
       "</table>\n",
       "</div>"
      ],
      "text/plain": [
       "                YDS  YDS_rank    salary\n",
       "NAME                                   \n",
       "Todd Gurley    1305       2.0   3455796\n",
       "Le'Veon Bell   1291       3.0  12120000\n",
       "LeSean McCoy   1138       4.0   8000000\n",
       "Mark Ingram    1124       5.0   4000000\n",
       "Melvin Gordon  1105       7.0   2667443"
      ]
     },
     "execution_count": 4,
     "metadata": {},
     "output_type": "execute_result"
    }
   ],
   "source": [
    "rbs_final_salary.head()"
   ]
  },
  {
   "cell_type": "code",
   "execution_count": 5,
   "metadata": {},
   "outputs": [],
   "source": [
    "rbs_final_salary.to_csv('../Capstone_csv_file/rbs_yds_salary_17-18')"
   ]
  },
  {
   "cell_type": "code",
   "execution_count": null,
   "metadata": {},
   "outputs": [],
   "source": []
  }
 ],
 "metadata": {
  "kernelspec": {
   "display_name": "Python 3",
   "language": "python",
   "name": "python3"
  },
  "language_info": {
   "codemirror_mode": {
    "name": "ipython",
    "version": 3
   },
   "file_extension": ".py",
   "mimetype": "text/x-python",
   "name": "python",
   "nbconvert_exporter": "python",
   "pygments_lexer": "ipython3",
   "version": "3.7.3"
  }
 },
 "nbformat": 4,
 "nbformat_minor": 4
}
