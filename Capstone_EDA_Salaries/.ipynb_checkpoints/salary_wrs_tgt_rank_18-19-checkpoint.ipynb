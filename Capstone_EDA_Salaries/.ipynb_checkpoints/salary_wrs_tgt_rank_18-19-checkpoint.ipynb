{
 "cells": [
  {
   "cell_type": "markdown",
   "metadata": {},
   "source": [
    "# WRS Salary Tgt Rank"
   ]
  },
  {
   "cell_type": "code",
   "execution_count": 1,
   "metadata": {},
   "outputs": [],
   "source": [
    "import pandas as pd"
   ]
  },
  {
   "cell_type": "code",
   "execution_count": 2,
   "metadata": {},
   "outputs": [],
   "source": [
    "salary = pd.read_csv('../Capstone_csv_file/salary_edited_to_fit_18-19')"
   ]
  },
  {
   "cell_type": "code",
   "execution_count": 3,
   "metadata": {},
   "outputs": [],
   "source": [
    "rbs = pd.read_csv('../Capstone_csv_file/wrs_tgt_rank_18-19')\n",
    "\n",
    "rbs.set_index('NAME', inplace = True)\n",
    "\n",
    "rbs_final_salary = rbs.merge(salary, on = 'NAME')\n",
    "\n",
    "rbs_final_salary.set_index('NAME', inplace = True)"
   ]
  },
  {
   "cell_type": "code",
   "execution_count": 4,
   "metadata": {},
   "outputs": [
    {
     "data": {
      "text/html": [
       "<div>\n",
       "<style scoped>\n",
       "    .dataframe tbody tr th:only-of-type {\n",
       "        vertical-align: middle;\n",
       "    }\n",
       "\n",
       "    .dataframe tbody tr th {\n",
       "        vertical-align: top;\n",
       "    }\n",
       "\n",
       "    .dataframe thead th {\n",
       "        text-align: right;\n",
       "    }\n",
       "</style>\n",
       "<table border=\"1\" class=\"dataframe\">\n",
       "  <thead>\n",
       "    <tr style=\"text-align: right;\">\n",
       "      <th></th>\n",
       "      <th>TGT</th>\n",
       "      <th>TGT_rank</th>\n",
       "      <th>salary</th>\n",
       "    </tr>\n",
       "    <tr>\n",
       "      <th>NAME</th>\n",
       "      <th></th>\n",
       "      <th></th>\n",
       "      <th></th>\n",
       "    </tr>\n",
       "  </thead>\n",
       "  <tbody>\n",
       "    <tr>\n",
       "      <th>Julio Jones</th>\n",
       "      <td>170</td>\n",
       "      <td>1.0</td>\n",
       "      <td>14251209</td>\n",
       "    </tr>\n",
       "    <tr>\n",
       "      <th>Antonio Brown</th>\n",
       "      <td>169</td>\n",
       "      <td>2.5</td>\n",
       "      <td>17000000</td>\n",
       "    </tr>\n",
       "    <tr>\n",
       "      <th>Davante Adams</th>\n",
       "      <td>169</td>\n",
       "      <td>2.5</td>\n",
       "      <td>14500000</td>\n",
       "    </tr>\n",
       "    <tr>\n",
       "      <th>JuJu Smith-Schuster</th>\n",
       "      <td>166</td>\n",
       "      <td>4.0</td>\n",
       "      <td>1048945</td>\n",
       "    </tr>\n",
       "    <tr>\n",
       "      <th>DeAndre Hopkins</th>\n",
       "      <td>163</td>\n",
       "      <td>5.0</td>\n",
       "      <td>16200000</td>\n",
       "    </tr>\n",
       "  </tbody>\n",
       "</table>\n",
       "</div>"
      ],
      "text/plain": [
       "                     TGT  TGT_rank    salary\n",
       "NAME                                        \n",
       "Julio Jones          170       1.0  14251209\n",
       "Antonio Brown        169       2.5  17000000\n",
       "Davante Adams        169       2.5  14500000\n",
       "JuJu Smith-Schuster  166       4.0   1048945\n",
       "DeAndre Hopkins      163       5.0  16200000"
      ]
     },
     "execution_count": 4,
     "metadata": {},
     "output_type": "execute_result"
    }
   ],
   "source": [
    "rbs_final_salary.head()"
   ]
  },
  {
   "cell_type": "code",
   "execution_count": 5,
   "metadata": {},
   "outputs": [],
   "source": [
    "rbs_final_salary.to_csv('../Capstone_csv_file/wrs_tgt_salary_18-19')"
   ]
  },
  {
   "cell_type": "code",
   "execution_count": null,
   "metadata": {},
   "outputs": [],
   "source": []
  }
 ],
 "metadata": {
  "kernelspec": {
   "display_name": "Python 3",
   "language": "python",
   "name": "python3"
  },
  "language_info": {
   "codemirror_mode": {
    "name": "ipython",
    "version": 3
   },
   "file_extension": ".py",
   "mimetype": "text/x-python",
   "name": "python",
   "nbconvert_exporter": "python",
   "pygments_lexer": "ipython3",
   "version": "3.7.3"
  }
 },
 "nbformat": 4,
 "nbformat_minor": 4
}
