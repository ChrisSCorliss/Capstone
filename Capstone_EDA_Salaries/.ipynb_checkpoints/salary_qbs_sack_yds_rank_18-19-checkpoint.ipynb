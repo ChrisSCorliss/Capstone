{
 "cells": [
  {
   "cell_type": "markdown",
   "metadata": {},
   "source": [
    "# QBS Salary Sack Yds Rank"
   ]
  },
  {
   "cell_type": "code",
   "execution_count": 1,
   "metadata": {},
   "outputs": [],
   "source": [
    "import pandas as pd"
   ]
  },
  {
   "cell_type": "code",
   "execution_count": 2,
   "metadata": {},
   "outputs": [],
   "source": [
    "salary = pd.read_csv('../Capstone_csv_file/salary_edited_to_fit_18-19')"
   ]
  },
  {
   "cell_type": "code",
   "execution_count": 3,
   "metadata": {},
   "outputs": [],
   "source": [
    "qbs = pd.read_csv('../Capstone_csv_file/qbs_sack_yds_rank_18-19')\n",
    "\n",
    "qbs.set_index('NAME', inplace = True)\n",
    "\n",
    "qbs_final_salary = qbs.merge(salary, on = 'NAME')\n",
    "\n",
    "qbs_final_salary.set_index('NAME', inplace = True)"
   ]
  },
  {
   "cell_type": "code",
   "execution_count": 4,
   "metadata": {},
   "outputs": [
    {
     "data": {
      "text/html": [
       "<div>\n",
       "<style scoped>\n",
       "    .dataframe tbody tr th:only-of-type {\n",
       "        vertical-align: middle;\n",
       "    }\n",
       "\n",
       "    .dataframe tbody tr th {\n",
       "        vertical-align: top;\n",
       "    }\n",
       "\n",
       "    .dataframe thead th {\n",
       "        text-align: right;\n",
       "    }\n",
       "</style>\n",
       "<table border=\"1\" class=\"dataframe\">\n",
       "  <thead>\n",
       "    <tr style=\"text-align: right;\">\n",
       "      <th></th>\n",
       "      <th>SACK YDS</th>\n",
       "      <th>SACK YDS_rank</th>\n",
       "      <th>salary</th>\n",
       "    </tr>\n",
       "    <tr>\n",
       "      <th>NAME</th>\n",
       "      <th></th>\n",
       "      <th></th>\n",
       "      <th></th>\n",
       "    </tr>\n",
       "  </thead>\n",
       "  <tbody>\n",
       "    <tr>\n",
       "      <th>Teddy Bridgewater</th>\n",
       "      <td>8</td>\n",
       "      <td>2.5</td>\n",
       "      <td>6000000</td>\n",
       "    </tr>\n",
       "    <tr>\n",
       "      <th>Derek Anderson</th>\n",
       "      <td>33</td>\n",
       "      <td>5.5</td>\n",
       "      <td>1073530</td>\n",
       "    </tr>\n",
       "    <tr>\n",
       "      <th>Josh McCown</th>\n",
       "      <td>35</td>\n",
       "      <td>8.0</td>\n",
       "      <td>10000000</td>\n",
       "    </tr>\n",
       "    <tr>\n",
       "      <th>Colt McCoy</th>\n",
       "      <td>36</td>\n",
       "      <td>9.0</td>\n",
       "      <td>3250000</td>\n",
       "    </tr>\n",
       "    <tr>\n",
       "      <th>Blaine Gabbert</th>\n",
       "      <td>37</td>\n",
       "      <td>10.0</td>\n",
       "      <td>2000000</td>\n",
       "    </tr>\n",
       "  </tbody>\n",
       "</table>\n",
       "</div>"
      ],
      "text/plain": [
       "                   SACK YDS  SACK YDS_rank    salary\n",
       "NAME                                                \n",
       "Teddy Bridgewater         8            2.5   6000000\n",
       "Derek Anderson           33            5.5   1073530\n",
       "Josh McCown              35            8.0  10000000\n",
       "Colt McCoy               36            9.0   3250000\n",
       "Blaine Gabbert           37           10.0   2000000"
      ]
     },
     "execution_count": 4,
     "metadata": {},
     "output_type": "execute_result"
    }
   ],
   "source": [
    "qbs_final_salary.head()"
   ]
  },
  {
   "cell_type": "code",
   "execution_count": 5,
   "metadata": {},
   "outputs": [],
   "source": [
    "qbs_final_salary.to_csv('../Capstone_csv_file/qbs_sacks_yds_salary_18-19')"
   ]
  },
  {
   "cell_type": "code",
   "execution_count": null,
   "metadata": {},
   "outputs": [],
   "source": []
  }
 ],
 "metadata": {
  "kernelspec": {
   "display_name": "Python 3",
   "language": "python",
   "name": "python3"
  },
  "language_info": {
   "codemirror_mode": {
    "name": "ipython",
    "version": 3
   },
   "file_extension": ".py",
   "mimetype": "text/x-python",
   "name": "python",
   "nbconvert_exporter": "python",
   "pygments_lexer": "ipython3",
   "version": "3.7.3"
  }
 },
 "nbformat": 4,
 "nbformat_minor": 4
}
