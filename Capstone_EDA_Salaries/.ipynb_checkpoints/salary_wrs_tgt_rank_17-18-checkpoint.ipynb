{
 "cells": [
  {
   "cell_type": "markdown",
   "metadata": {},
   "source": [
    "# WRS Salary Tgt Rank"
   ]
  },
  {
   "cell_type": "code",
   "execution_count": 1,
   "metadata": {},
   "outputs": [],
   "source": [
    "import pandas as pd"
   ]
  },
  {
   "cell_type": "code",
   "execution_count": 2,
   "metadata": {},
   "outputs": [],
   "source": [
    "salary = pd.read_csv('../Capstone_csv_file/salary_edited_to_fit_17-18')"
   ]
  },
  {
   "cell_type": "code",
   "execution_count": 3,
   "metadata": {},
   "outputs": [],
   "source": [
    "rbs = pd.read_csv('../Capstone_csv_file/wrs_tgt_rank_17-18')\n",
    "\n",
    "rbs.set_index('NAME', inplace = True)\n",
    "\n",
    "rbs_final_salary = rbs.merge(salary, on = 'NAME')\n",
    "\n",
    "rbs_final_salary.set_index('NAME', inplace = True)"
   ]
  },
  {
   "cell_type": "code",
   "execution_count": 4,
   "metadata": {},
   "outputs": [
    {
     "data": {
      "text/html": [
       "<div>\n",
       "<style scoped>\n",
       "    .dataframe tbody tr th:only-of-type {\n",
       "        vertical-align: middle;\n",
       "    }\n",
       "\n",
       "    .dataframe tbody tr th {\n",
       "        vertical-align: top;\n",
       "    }\n",
       "\n",
       "    .dataframe thead th {\n",
       "        text-align: right;\n",
       "    }\n",
       "</style>\n",
       "<table border=\"1\" class=\"dataframe\">\n",
       "  <thead>\n",
       "    <tr style=\"text-align: right;\">\n",
       "      <th></th>\n",
       "      <th>TGT</th>\n",
       "      <th>TGT_rank</th>\n",
       "      <th>salary</th>\n",
       "    </tr>\n",
       "    <tr>\n",
       "      <th>NAME</th>\n",
       "      <th></th>\n",
       "      <th></th>\n",
       "      <th></th>\n",
       "    </tr>\n",
       "  </thead>\n",
       "  <tbody>\n",
       "    <tr>\n",
       "      <th>DeAndre Hopkins</th>\n",
       "      <td>174</td>\n",
       "      <td>1.0</td>\n",
       "      <td>16200000</td>\n",
       "    </tr>\n",
       "    <tr>\n",
       "      <th>Antonio Brown</th>\n",
       "      <td>162</td>\n",
       "      <td>2.0</td>\n",
       "      <td>17000000</td>\n",
       "    </tr>\n",
       "    <tr>\n",
       "      <th>Larry Fitzgerald</th>\n",
       "      <td>161</td>\n",
       "      <td>3.5</td>\n",
       "      <td>11000000</td>\n",
       "    </tr>\n",
       "    <tr>\n",
       "      <th>Keenan Allen</th>\n",
       "      <td>159</td>\n",
       "      <td>5.0</td>\n",
       "      <td>11250000</td>\n",
       "    </tr>\n",
       "    <tr>\n",
       "      <th>Michael Thomas</th>\n",
       "      <td>149</td>\n",
       "      <td>6.0</td>\n",
       "      <td>1797000</td>\n",
       "    </tr>\n",
       "  </tbody>\n",
       "</table>\n",
       "</div>"
      ],
      "text/plain": [
       "                  TGT  TGT_rank    salary\n",
       "NAME                                     \n",
       "DeAndre Hopkins   174       1.0  16200000\n",
       "Antonio Brown     162       2.0  17000000\n",
       "Larry Fitzgerald  161       3.5  11000000\n",
       "Keenan Allen      159       5.0  11250000\n",
       "Michael Thomas    149       6.0   1797000"
      ]
     },
     "execution_count": 4,
     "metadata": {},
     "output_type": "execute_result"
    }
   ],
   "source": [
    "rbs_final_salary.head()"
   ]
  },
  {
   "cell_type": "code",
   "execution_count": 5,
   "metadata": {},
   "outputs": [],
   "source": [
    "rbs_final_salary.to_csv('../Capstone_csv_file/wrs_tgt_salary_17-18')"
   ]
  },
  {
   "cell_type": "code",
   "execution_count": null,
   "metadata": {},
   "outputs": [],
   "source": []
  }
 ],
 "metadata": {
  "kernelspec": {
   "display_name": "Python 3",
   "language": "python",
   "name": "python3"
  },
  "language_info": {
   "codemirror_mode": {
    "name": "ipython",
    "version": 3
   },
   "file_extension": ".py",
   "mimetype": "text/x-python",
   "name": "python",
   "nbconvert_exporter": "python",
   "pygments_lexer": "ipython3",
   "version": "3.7.3"
  }
 },
 "nbformat": 4,
 "nbformat_minor": 4
}
