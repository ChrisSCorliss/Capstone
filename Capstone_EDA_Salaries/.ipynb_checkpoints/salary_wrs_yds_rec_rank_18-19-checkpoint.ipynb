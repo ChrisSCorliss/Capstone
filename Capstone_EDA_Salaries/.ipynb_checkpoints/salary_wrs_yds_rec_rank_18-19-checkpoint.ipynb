{
 "cells": [
  {
   "cell_type": "markdown",
   "metadata": {},
   "source": [
    "# WRS Salary Yds/Rec Rank"
   ]
  },
  {
   "cell_type": "code",
   "execution_count": 1,
   "metadata": {},
   "outputs": [],
   "source": [
    "import pandas as pd"
   ]
  },
  {
   "cell_type": "code",
   "execution_count": 2,
   "metadata": {},
   "outputs": [],
   "source": [
    "salary = pd.read_csv('../Capstone_csv_file/salary_edited_to_fit_18-19')"
   ]
  },
  {
   "cell_type": "code",
   "execution_count": 3,
   "metadata": {},
   "outputs": [],
   "source": [
    "rbs = pd.read_csv('../Capstone_csv_file/wrs_yds_rec_rank_18-19')\n",
    "\n",
    "rbs.set_index('NAME', inplace = True)\n",
    "\n",
    "rbs_final_salary = rbs.merge(salary, on = 'NAME')\n",
    "\n",
    "rbs_final_salary.set_index('NAME', inplace = True)"
   ]
  },
  {
   "cell_type": "code",
   "execution_count": 4,
   "metadata": {},
   "outputs": [
    {
     "data": {
      "text/html": [
       "<div>\n",
       "<style scoped>\n",
       "    .dataframe tbody tr th:only-of-type {\n",
       "        vertical-align: middle;\n",
       "    }\n",
       "\n",
       "    .dataframe tbody tr th {\n",
       "        vertical-align: top;\n",
       "    }\n",
       "\n",
       "    .dataframe thead th {\n",
       "        text-align: right;\n",
       "    }\n",
       "</style>\n",
       "<table border=\"1\" class=\"dataframe\">\n",
       "  <thead>\n",
       "    <tr style=\"text-align: right;\">\n",
       "      <th></th>\n",
       "      <th>YDS/REC</th>\n",
       "      <th>YDS/REC_rank</th>\n",
       "      <th>salary</th>\n",
       "    </tr>\n",
       "    <tr>\n",
       "      <th>NAME</th>\n",
       "      <th></th>\n",
       "      <th></th>\n",
       "      <th></th>\n",
       "    </tr>\n",
       "  </thead>\n",
       "  <tbody>\n",
       "    <tr>\n",
       "      <th>DeSean Jackson</th>\n",
       "      <td>18.9</td>\n",
       "      <td>3.0</td>\n",
       "      <td>11166667</td>\n",
       "    </tr>\n",
       "    <tr>\n",
       "      <th>Russell Shepard</th>\n",
       "      <td>18.8</td>\n",
       "      <td>4.0</td>\n",
       "      <td>1250000</td>\n",
       "    </tr>\n",
       "    <tr>\n",
       "      <th>Mike Evans</th>\n",
       "      <td>17.7</td>\n",
       "      <td>6.0</td>\n",
       "      <td>16500000</td>\n",
       "    </tr>\n",
       "    <tr>\n",
       "      <th>Dante Pettis</th>\n",
       "      <td>17.3</td>\n",
       "      <td>7.0</td>\n",
       "      <td>1600140</td>\n",
       "    </tr>\n",
       "    <tr>\n",
       "      <th>Marquise Goodwin</th>\n",
       "      <td>17.2</td>\n",
       "      <td>8.0</td>\n",
       "      <td>6416667</td>\n",
       "    </tr>\n",
       "  </tbody>\n",
       "</table>\n",
       "</div>"
      ],
      "text/plain": [
       "                  YDS/REC  YDS/REC_rank    salary\n",
       "NAME                                             \n",
       "DeSean Jackson       18.9           3.0  11166667\n",
       "Russell Shepard      18.8           4.0   1250000\n",
       "Mike Evans           17.7           6.0  16500000\n",
       "Dante Pettis         17.3           7.0   1600140\n",
       "Marquise Goodwin     17.2           8.0   6416667"
      ]
     },
     "execution_count": 4,
     "metadata": {},
     "output_type": "execute_result"
    }
   ],
   "source": [
    "rbs_final_salary.head()"
   ]
  },
  {
   "cell_type": "code",
   "execution_count": 5,
   "metadata": {},
   "outputs": [],
   "source": [
    "rbs_final_salary.to_csv('../Capstone_csv_file/wrs_yds_rec_salary_18-19')"
   ]
  },
  {
   "cell_type": "code",
   "execution_count": null,
   "metadata": {},
   "outputs": [],
   "source": []
  }
 ],
 "metadata": {
  "kernelspec": {
   "display_name": "Python 3",
   "language": "python",
   "name": "python3"
  },
  "language_info": {
   "codemirror_mode": {
    "name": "ipython",
    "version": 3
   },
   "file_extension": ".py",
   "mimetype": "text/x-python",
   "name": "python",
   "nbconvert_exporter": "python",
   "pygments_lexer": "ipython3",
   "version": "3.7.3"
  }
 },
 "nbformat": 4,
 "nbformat_minor": 4
}
