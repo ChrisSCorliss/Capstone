{
 "cells": [
  {
   "cell_type": "markdown",
   "metadata": {},
   "source": [
    "# QBS Salary Yds Rank"
   ]
  },
  {
   "cell_type": "code",
   "execution_count": 1,
   "metadata": {},
   "outputs": [],
   "source": [
    "import pandas as pd"
   ]
  },
  {
   "cell_type": "code",
   "execution_count": 2,
   "metadata": {},
   "outputs": [],
   "source": [
    "salary = pd.read_csv('../Capstone_csv_file/salary_edited_to_fit_17-18')"
   ]
  },
  {
   "cell_type": "code",
   "execution_count": 3,
   "metadata": {},
   "outputs": [],
   "source": [
    "qbs = pd.read_csv('../Capstone_csv_file/qbs_yds_rank_17-18')\n",
    "\n",
    "qbs.set_index('NAME', inplace = True)\n",
    "\n",
    "qbs_final_salary = qbs.merge(salary, on = 'NAME')\n",
    "\n",
    "qbs_final_salary.set_index('NAME', inplace = True)"
   ]
  },
  {
   "cell_type": "code",
   "execution_count": 4,
   "metadata": {},
   "outputs": [
    {
     "data": {
      "text/html": [
       "<div>\n",
       "<style scoped>\n",
       "    .dataframe tbody tr th:only-of-type {\n",
       "        vertical-align: middle;\n",
       "    }\n",
       "\n",
       "    .dataframe tbody tr th {\n",
       "        vertical-align: top;\n",
       "    }\n",
       "\n",
       "    .dataframe thead th {\n",
       "        text-align: right;\n",
       "    }\n",
       "</style>\n",
       "<table border=\"1\" class=\"dataframe\">\n",
       "  <thead>\n",
       "    <tr style=\"text-align: right;\">\n",
       "      <th></th>\n",
       "      <th>YDS</th>\n",
       "      <th>YDS_rank</th>\n",
       "      <th>salary</th>\n",
       "    </tr>\n",
       "    <tr>\n",
       "      <th>NAME</th>\n",
       "      <th></th>\n",
       "      <th></th>\n",
       "      <th></th>\n",
       "    </tr>\n",
       "  </thead>\n",
       "  <tbody>\n",
       "    <tr>\n",
       "      <th>Tom Brady</th>\n",
       "      <td>4577</td>\n",
       "      <td>1.0</td>\n",
       "      <td>20500000</td>\n",
       "    </tr>\n",
       "    <tr>\n",
       "      <th>Philip Rivers</th>\n",
       "      <td>4515</td>\n",
       "      <td>2.0</td>\n",
       "      <td>20812500</td>\n",
       "    </tr>\n",
       "    <tr>\n",
       "      <th>Matthew Stafford</th>\n",
       "      <td>4446</td>\n",
       "      <td>3.0</td>\n",
       "      <td>27000000</td>\n",
       "    </tr>\n",
       "    <tr>\n",
       "      <th>Drew Brees</th>\n",
       "      <td>4334</td>\n",
       "      <td>4.0</td>\n",
       "      <td>24250000</td>\n",
       "    </tr>\n",
       "    <tr>\n",
       "      <th>Ben Roethlisberger</th>\n",
       "      <td>4251</td>\n",
       "      <td>5.0</td>\n",
       "      <td>21850000</td>\n",
       "    </tr>\n",
       "  </tbody>\n",
       "</table>\n",
       "</div>"
      ],
      "text/plain": [
       "                     YDS  YDS_rank    salary\n",
       "NAME                                        \n",
       "Tom Brady           4577       1.0  20500000\n",
       "Philip Rivers       4515       2.0  20812500\n",
       "Matthew Stafford    4446       3.0  27000000\n",
       "Drew Brees          4334       4.0  24250000\n",
       "Ben Roethlisberger  4251       5.0  21850000"
      ]
     },
     "execution_count": 4,
     "metadata": {},
     "output_type": "execute_result"
    }
   ],
   "source": [
    "qbs_final_salary.head()"
   ]
  },
  {
   "cell_type": "code",
   "execution_count": 5,
   "metadata": {},
   "outputs": [],
   "source": [
    "qbs_final_salary.to_csv('../Capstone_csv_file/qbs_yds_salary_17-18')"
   ]
  },
  {
   "cell_type": "code",
   "execution_count": null,
   "metadata": {},
   "outputs": [],
   "source": []
  }
 ],
 "metadata": {
  "kernelspec": {
   "display_name": "Python 3",
   "language": "python",
   "name": "python3"
  },
  "language_info": {
   "codemirror_mode": {
    "name": "ipython",
    "version": 3
   },
   "file_extension": ".py",
   "mimetype": "text/x-python",
   "name": "python",
   "nbconvert_exporter": "python",
   "pygments_lexer": "ipython3",
   "version": "3.7.3"
  }
 },
 "nbformat": 4,
 "nbformat_minor": 4
}
