{
 "cells": [
  {
   "cell_type": "markdown",
   "metadata": {},
   "source": [
    "# QBS Salary Att Rank"
   ]
  },
  {
   "cell_type": "code",
   "execution_count": 1,
   "metadata": {},
   "outputs": [],
   "source": [
    "import pandas as pd"
   ]
  },
  {
   "cell_type": "code",
   "execution_count": 2,
   "metadata": {},
   "outputs": [],
   "source": [
    "salary = pd.read_csv('../Capstone_csv_file/salary_edited_to_fit_18-19')"
   ]
  },
  {
   "cell_type": "code",
   "execution_count": 3,
   "metadata": {},
   "outputs": [],
   "source": [
    "qbs = pd.read_csv('../Capstone_csv_file/qbs_att_rank_18-19')\n",
    "\n",
    "qbs.set_index('NAME', inplace = True)\n",
    "\n",
    "qbs_final_salary = qbs.merge(salary, on = 'NAME')\n",
    "\n",
    "qbs_final_salary.set_index('NAME', inplace = True)"
   ]
  },
  {
   "cell_type": "code",
   "execution_count": 4,
   "metadata": {},
   "outputs": [
    {
     "data": {
      "text/html": [
       "<div>\n",
       "<style scoped>\n",
       "    .dataframe tbody tr th:only-of-type {\n",
       "        vertical-align: middle;\n",
       "    }\n",
       "\n",
       "    .dataframe tbody tr th {\n",
       "        vertical-align: top;\n",
       "    }\n",
       "\n",
       "    .dataframe thead th {\n",
       "        text-align: right;\n",
       "    }\n",
       "</style>\n",
       "<table border=\"1\" class=\"dataframe\">\n",
       "  <thead>\n",
       "    <tr style=\"text-align: right;\">\n",
       "      <th></th>\n",
       "      <th>ATT</th>\n",
       "      <th>ATT_rank</th>\n",
       "      <th>salary</th>\n",
       "    </tr>\n",
       "    <tr>\n",
       "      <th>NAME</th>\n",
       "      <th></th>\n",
       "      <th></th>\n",
       "      <th></th>\n",
       "    </tr>\n",
       "  </thead>\n",
       "  <tbody>\n",
       "    <tr>\n",
       "      <th>Ben Roethlisberger</th>\n",
       "      <td>675</td>\n",
       "      <td>1.0</td>\n",
       "      <td>21850000</td>\n",
       "    </tr>\n",
       "    <tr>\n",
       "      <th>Andrew Luck</th>\n",
       "      <td>639</td>\n",
       "      <td>2.0</td>\n",
       "      <td>24594000</td>\n",
       "    </tr>\n",
       "    <tr>\n",
       "      <th>Matt Ryan</th>\n",
       "      <td>608</td>\n",
       "      <td>3.0</td>\n",
       "      <td>30000000</td>\n",
       "    </tr>\n",
       "    <tr>\n",
       "      <th>Kirk Cousins</th>\n",
       "      <td>606</td>\n",
       "      <td>4.0</td>\n",
       "      <td>28000000</td>\n",
       "    </tr>\n",
       "    <tr>\n",
       "      <th>Aaron Rodgers</th>\n",
       "      <td>597</td>\n",
       "      <td>5.0</td>\n",
       "      <td>33500000</td>\n",
       "    </tr>\n",
       "  </tbody>\n",
       "</table>\n",
       "</div>"
      ],
      "text/plain": [
       "                    ATT  ATT_rank    salary\n",
       "NAME                                       \n",
       "Ben Roethlisberger  675       1.0  21850000\n",
       "Andrew Luck         639       2.0  24594000\n",
       "Matt Ryan           608       3.0  30000000\n",
       "Kirk Cousins        606       4.0  28000000\n",
       "Aaron Rodgers       597       5.0  33500000"
      ]
     },
     "execution_count": 4,
     "metadata": {},
     "output_type": "execute_result"
    }
   ],
   "source": [
    "qbs_final_salary.head()"
   ]
  },
  {
   "cell_type": "code",
   "execution_count": 5,
   "metadata": {},
   "outputs": [],
   "source": [
    "qbs_final_salary.to_csv('../Capstone_csv_file/qbs_att_salary_18-19')"
   ]
  },
  {
   "cell_type": "code",
   "execution_count": null,
   "metadata": {},
   "outputs": [],
   "source": []
  }
 ],
 "metadata": {
  "kernelspec": {
   "display_name": "Python 3",
   "language": "python",
   "name": "python3"
  },
  "language_info": {
   "codemirror_mode": {
    "name": "ipython",
    "version": 3
   },
   "file_extension": ".py",
   "mimetype": "text/x-python",
   "name": "python",
   "nbconvert_exporter": "python",
   "pygments_lexer": "ipython3",
   "version": "3.7.3"
  }
 },
 "nbformat": 4,
 "nbformat_minor": 4
}
