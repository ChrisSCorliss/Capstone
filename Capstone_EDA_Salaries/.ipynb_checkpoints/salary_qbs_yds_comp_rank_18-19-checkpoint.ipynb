{
 "cells": [
  {
   "cell_type": "markdown",
   "metadata": {},
   "source": [
    "# QBS Salary Yds Comp Rank"
   ]
  },
  {
   "cell_type": "code",
   "execution_count": 1,
   "metadata": {},
   "outputs": [],
   "source": [
    "import pandas as pd"
   ]
  },
  {
   "cell_type": "code",
   "execution_count": 2,
   "metadata": {},
   "outputs": [],
   "source": [
    "salary = pd.read_csv('../Capstone_csv_file/salary_edited_to_fit_18-19')"
   ]
  },
  {
   "cell_type": "code",
   "execution_count": 3,
   "metadata": {},
   "outputs": [],
   "source": [
    "qbs = pd.read_csv('../Capstone_csv_file/qbs_yds_comp_rank_18-19')\n",
    "\n",
    "qbs.set_index('NAME', inplace = True)\n",
    "\n",
    "qbs_final_salary = qbs.merge(salary, on = 'NAME')\n",
    "\n",
    "qbs_final_salary.set_index('NAME', inplace = True)"
   ]
  },
  {
   "cell_type": "code",
   "execution_count": 4,
   "metadata": {},
   "outputs": [
    {
     "data": {
      "text/html": [
       "<div>\n",
       "<style scoped>\n",
       "    .dataframe tbody tr th:only-of-type {\n",
       "        vertical-align: middle;\n",
       "    }\n",
       "\n",
       "    .dataframe tbody tr th {\n",
       "        vertical-align: top;\n",
       "    }\n",
       "\n",
       "    .dataframe thead th {\n",
       "        text-align: right;\n",
       "    }\n",
       "</style>\n",
       "<table border=\"1\" class=\"dataframe\">\n",
       "  <thead>\n",
       "    <tr style=\"text-align: right;\">\n",
       "      <th></th>\n",
       "      <th>YDS/COMP</th>\n",
       "      <th>YDS/COMP_rank</th>\n",
       "      <th>salary</th>\n",
       "    </tr>\n",
       "    <tr>\n",
       "      <th>NAME</th>\n",
       "      <th></th>\n",
       "      <th></th>\n",
       "      <th></th>\n",
       "    </tr>\n",
       "  </thead>\n",
       "  <tbody>\n",
       "    <tr>\n",
       "      <th>Ryan Fitzpatrick</th>\n",
       "      <td>14.4</td>\n",
       "      <td>2.0</td>\n",
       "      <td>3300000</td>\n",
       "    </tr>\n",
       "    <tr>\n",
       "      <th>Jimmy Garoppolo</th>\n",
       "      <td>13.5</td>\n",
       "      <td>3.0</td>\n",
       "      <td>27500000</td>\n",
       "    </tr>\n",
       "    <tr>\n",
       "      <th>Patrick Mahomes</th>\n",
       "      <td>13.3</td>\n",
       "      <td>4.5</td>\n",
       "      <td>4106447</td>\n",
       "    </tr>\n",
       "    <tr>\n",
       "      <th>Jared Goff</th>\n",
       "      <td>12.9</td>\n",
       "      <td>6.5</td>\n",
       "      <td>6984418</td>\n",
       "    </tr>\n",
       "    <tr>\n",
       "      <th>Philip Rivers</th>\n",
       "      <td>12.4</td>\n",
       "      <td>8.0</td>\n",
       "      <td>20812500</td>\n",
       "    </tr>\n",
       "  </tbody>\n",
       "</table>\n",
       "</div>"
      ],
      "text/plain": [
       "                  YDS/COMP  YDS/COMP_rank    salary\n",
       "NAME                                               \n",
       "Ryan Fitzpatrick      14.4            2.0   3300000\n",
       "Jimmy Garoppolo       13.5            3.0  27500000\n",
       "Patrick Mahomes       13.3            4.5   4106447\n",
       "Jared Goff            12.9            6.5   6984418\n",
       "Philip Rivers         12.4            8.0  20812500"
      ]
     },
     "execution_count": 4,
     "metadata": {},
     "output_type": "execute_result"
    }
   ],
   "source": [
    "qbs_final_salary.head()"
   ]
  },
  {
   "cell_type": "code",
   "execution_count": 5,
   "metadata": {},
   "outputs": [],
   "source": [
    "qbs_final_salary.to_csv('../Capstone_csv_file/qbs_yds_comp_salary_18-19')"
   ]
  },
  {
   "cell_type": "code",
   "execution_count": null,
   "metadata": {},
   "outputs": [],
   "source": []
  }
 ],
 "metadata": {
  "kernelspec": {
   "display_name": "Python 3",
   "language": "python",
   "name": "python3"
  },
  "language_info": {
   "codemirror_mode": {
    "name": "ipython",
    "version": 3
   },
   "file_extension": ".py",
   "mimetype": "text/x-python",
   "name": "python",
   "nbconvert_exporter": "python",
   "pygments_lexer": "ipython3",
   "version": "3.7.3"
  }
 },
 "nbformat": 4,
 "nbformat_minor": 4
}
