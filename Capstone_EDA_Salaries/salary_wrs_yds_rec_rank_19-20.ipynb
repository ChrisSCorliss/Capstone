{
 "cells": [
  {
   "cell_type": "markdown",
   "metadata": {},
   "source": [
    "# WRS Salary Yds/Rec Rank"
   ]
  },
  {
   "cell_type": "code",
   "execution_count": 1,
   "metadata": {},
   "outputs": [],
   "source": [
    "import pandas as pd"
   ]
  },
  {
   "cell_type": "code",
   "execution_count": 2,
   "metadata": {},
   "outputs": [],
   "source": [
    "salary = pd.read_csv('../Capstone_csv_file/salary_edited_to_fit_19-20')"
   ]
  },
  {
   "cell_type": "code",
   "execution_count": 3,
   "metadata": {},
   "outputs": [],
   "source": [
    "rbs = pd.read_csv('../Capstone_csv_file/wrs_yds_rec_rank_19-20')\n",
    "\n",
    "rbs.set_index('NAME', inplace = True)\n",
    "\n",
    "rbs_final_salary = rbs.merge(salary, on = 'NAME')\n",
    "\n",
    "rbs_final_salary.set_index('NAME', inplace = True)"
   ]
  },
  {
   "cell_type": "code",
   "execution_count": 4,
   "metadata": {},
   "outputs": [
    {
     "data": {
      "text/html": [
       "<div>\n",
       "<style scoped>\n",
       "    .dataframe tbody tr th:only-of-type {\n",
       "        vertical-align: middle;\n",
       "    }\n",
       "\n",
       "    .dataframe tbody tr th {\n",
       "        vertical-align: top;\n",
       "    }\n",
       "\n",
       "    .dataframe thead th {\n",
       "        text-align: right;\n",
       "    }\n",
       "</style>\n",
       "<table border=\"1\" class=\"dataframe\">\n",
       "  <thead>\n",
       "    <tr style=\"text-align: right;\">\n",
       "      <th></th>\n",
       "      <th>YDS/REC</th>\n",
       "      <th>YDS/REC_rank</th>\n",
       "      <th>salary</th>\n",
       "    </tr>\n",
       "    <tr>\n",
       "      <th>NAME</th>\n",
       "      <th></th>\n",
       "      <th></th>\n",
       "      <th></th>\n",
       "    </tr>\n",
       "  </thead>\n",
       "  <tbody>\n",
       "    <tr>\n",
       "      <th>Mecole Hardman</th>\n",
       "      <td>20.7</td>\n",
       "      <td>2.0</td>\n",
       "      <td>1248763</td>\n",
       "    </tr>\n",
       "    <tr>\n",
       "      <th>Mike Williams</th>\n",
       "      <td>20.4</td>\n",
       "      <td>3.0</td>\n",
       "      <td>4937482</td>\n",
       "    </tr>\n",
       "    <tr>\n",
       "      <th>A.J. Brown</th>\n",
       "      <td>20.2</td>\n",
       "      <td>4.0</td>\n",
       "      <td>1413092</td>\n",
       "    </tr>\n",
       "    <tr>\n",
       "      <th>Kenny Golladay</th>\n",
       "      <td>18.3</td>\n",
       "      <td>5.0</td>\n",
       "      <td>799081</td>\n",
       "    </tr>\n",
       "    <tr>\n",
       "      <th>John Ross</th>\n",
       "      <td>18.1</td>\n",
       "      <td>7.0</td>\n",
       "      <td>4278966</td>\n",
       "    </tr>\n",
       "  </tbody>\n",
       "</table>\n",
       "</div>"
      ],
      "text/plain": [
       "                YDS/REC  YDS/REC_rank   salary\n",
       "NAME                                          \n",
       "Mecole Hardman     20.7           2.0  1248763\n",
       "Mike Williams      20.4           3.0  4937482\n",
       "A.J. Brown         20.2           4.0  1413092\n",
       "Kenny Golladay     18.3           5.0   799081\n",
       "John Ross          18.1           7.0  4278966"
      ]
     },
     "execution_count": 4,
     "metadata": {},
     "output_type": "execute_result"
    }
   ],
   "source": [
    "rbs_final_salary.head()"
   ]
  },
  {
   "cell_type": "code",
   "execution_count": 5,
   "metadata": {},
   "outputs": [],
   "source": [
    "rbs_final_salary.to_csv('../Capstone_csv_file/wrs_yds_rec_salary_19-20')"
   ]
  },
  {
   "cell_type": "code",
   "execution_count": null,
   "metadata": {},
   "outputs": [],
   "source": []
  }
 ],
 "metadata": {
  "kernelspec": {
   "display_name": "Python 3",
   "language": "python",
   "name": "python3"
  },
  "language_info": {
   "codemirror_mode": {
    "name": "ipython",
    "version": 3
   },
   "file_extension": ".py",
   "mimetype": "text/x-python",
   "name": "python",
   "nbconvert_exporter": "python",
   "pygments_lexer": "ipython3",
   "version": "3.7.3"
  }
 },
 "nbformat": 4,
 "nbformat_minor": 4
}
