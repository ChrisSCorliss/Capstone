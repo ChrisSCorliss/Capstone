{
 "cells": [
  {
   "cell_type": "markdown",
   "metadata": {},
   "source": [
    "# Linear Regression"
   ]
  },
  {
   "cell_type": "code",
   "execution_count": 15,
   "metadata": {},
   "outputs": [],
   "source": [
    "import pandas as pd\n",
    "import numpy as np\n",
    "import matplotlib.pyplot as plt\n",
    "from sklearn.linear_model import LinearRegression\n",
    "from sklearn.metrics import r2_score"
   ]
  },
  {
   "cell_type": "code",
   "execution_count": 16,
   "metadata": {},
   "outputs": [
    {
     "data": {
      "text/html": [
       "<div>\n",
       "<style scoped>\n",
       "    .dataframe tbody tr th:only-of-type {\n",
       "        vertical-align: middle;\n",
       "    }\n",
       "\n",
       "    .dataframe tbody tr th {\n",
       "        vertical-align: top;\n",
       "    }\n",
       "\n",
       "    .dataframe thead th {\n",
       "        text-align: right;\n",
       "    }\n",
       "</style>\n",
       "<table border=\"1\" class=\"dataframe\">\n",
       "  <thead>\n",
       "    <tr style=\"text-align: right;\">\n",
       "      <th></th>\n",
       "      <th>NAME</th>\n",
       "      <th>COMP</th>\n",
       "      <th>ATT</th>\n",
       "      <th>ATT/G</th>\n",
       "      <th>YDS</th>\n",
       "      <th>300+ YDS</th>\n",
       "      <th>COMP%</th>\n",
       "      <th>YDS/ATT</th>\n",
       "      <th>YDS/COMP</th>\n",
       "      <th>TD</th>\n",
       "      <th>...</th>\n",
       "      <th>YDS/ATT_rank</th>\n",
       "      <th>YDS/COMP_rank</th>\n",
       "      <th>TD_rank</th>\n",
       "      <th>INT_rank</th>\n",
       "      <th>QBR_rank</th>\n",
       "      <th>LONG_rank</th>\n",
       "      <th>SACKS_rank</th>\n",
       "      <th>SACK YDS_rank</th>\n",
       "      <th>FUML_rank</th>\n",
       "      <th>salary</th>\n",
       "    </tr>\n",
       "  </thead>\n",
       "  <tbody>\n",
       "    <tr>\n",
       "      <th>0</th>\n",
       "      <td>Tom Brady</td>\n",
       "      <td>385</td>\n",
       "      <td>581</td>\n",
       "      <td>36.3</td>\n",
       "      <td>4577</td>\n",
       "      <td>6</td>\n",
       "      <td>66.3</td>\n",
       "      <td>7.9</td>\n",
       "      <td>11.9</td>\n",
       "      <td>32</td>\n",
       "      <td>...</td>\n",
       "      <td>10.5</td>\n",
       "      <td>12.0</td>\n",
       "      <td>3.0</td>\n",
       "      <td>37.0</td>\n",
       "      <td>2.0</td>\n",
       "      <td>26.5</td>\n",
       "      <td>49.0</td>\n",
       "      <td>45.0</td>\n",
       "      <td>45.0</td>\n",
       "      <td>20500000</td>\n",
       "    </tr>\n",
       "    <tr>\n",
       "      <th>1</th>\n",
       "      <td>Aaron Rodgers</td>\n",
       "      <td>154</td>\n",
       "      <td>238</td>\n",
       "      <td>34.0</td>\n",
       "      <td>1675</td>\n",
       "      <td>3</td>\n",
       "      <td>64.7</td>\n",
       "      <td>7.0</td>\n",
       "      <td>10.9</td>\n",
       "      <td>16</td>\n",
       "      <td>...</td>\n",
       "      <td>22.5</td>\n",
       "      <td>38.5</td>\n",
       "      <td>24.0</td>\n",
       "      <td>27.5</td>\n",
       "      <td>30.0</td>\n",
       "      <td>17.0</td>\n",
       "      <td>33.0</td>\n",
       "      <td>38.0</td>\n",
       "      <td>24.5</td>\n",
       "      <td>22000000</td>\n",
       "    </tr>\n",
       "    <tr>\n",
       "      <th>2</th>\n",
       "      <td>Russell Wilson</td>\n",
       "      <td>339</td>\n",
       "      <td>553</td>\n",
       "      <td>34.6</td>\n",
       "      <td>3983</td>\n",
       "      <td>3</td>\n",
       "      <td>61.3</td>\n",
       "      <td>7.2</td>\n",
       "      <td>11.7</td>\n",
       "      <td>34</td>\n",
       "      <td>...</td>\n",
       "      <td>20.0</td>\n",
       "      <td>16.5</td>\n",
       "      <td>1.0</td>\n",
       "      <td>42.5</td>\n",
       "      <td>7.5</td>\n",
       "      <td>14.5</td>\n",
       "      <td>55.0</td>\n",
       "      <td>57.0</td>\n",
       "      <td>45.0</td>\n",
       "      <td>21900000</td>\n",
       "    </tr>\n",
       "    <tr>\n",
       "      <th>3</th>\n",
       "      <td>Drew Brees</td>\n",
       "      <td>386</td>\n",
       "      <td>536</td>\n",
       "      <td>33.5</td>\n",
       "      <td>4334</td>\n",
       "      <td>3</td>\n",
       "      <td>72.0</td>\n",
       "      <td>8.1</td>\n",
       "      <td>11.2</td>\n",
       "      <td>23</td>\n",
       "      <td>...</td>\n",
       "      <td>5.5</td>\n",
       "      <td>30.0</td>\n",
       "      <td>11.0</td>\n",
       "      <td>37.0</td>\n",
       "      <td>1.0</td>\n",
       "      <td>34.5</td>\n",
       "      <td>28.0</td>\n",
       "      <td>31.0</td>\n",
       "      <td>9.0</td>\n",
       "      <td>24250000</td>\n",
       "    </tr>\n",
       "    <tr>\n",
       "      <th>4</th>\n",
       "      <td>Matt Ryan</td>\n",
       "      <td>342</td>\n",
       "      <td>529</td>\n",
       "      <td>33.1</td>\n",
       "      <td>4095</td>\n",
       "      <td>4</td>\n",
       "      <td>64.7</td>\n",
       "      <td>7.7</td>\n",
       "      <td>12.0</td>\n",
       "      <td>20</td>\n",
       "      <td>...</td>\n",
       "      <td>13.0</td>\n",
       "      <td>9.5</td>\n",
       "      <td>17.0</td>\n",
       "      <td>45.0</td>\n",
       "      <td>12.0</td>\n",
       "      <td>3.0</td>\n",
       "      <td>36.5</td>\n",
       "      <td>35.0</td>\n",
       "      <td>45.0</td>\n",
       "      <td>20750000</td>\n",
       "    </tr>\n",
       "  </tbody>\n",
       "</table>\n",
       "<p>5 rows × 32 columns</p>\n",
       "</div>"
      ],
      "text/plain": [
       "             NAME  COMP  ATT  ATT/G   YDS  300+ YDS  COMP%  YDS/ATT  YDS/COMP  \\\n",
       "0       Tom Brady   385  581   36.3  4577         6   66.3      7.9      11.9   \n",
       "1   Aaron Rodgers   154  238   34.0  1675         3   64.7      7.0      10.9   \n",
       "2  Russell Wilson   339  553   34.6  3983         3   61.3      7.2      11.7   \n",
       "3      Drew Brees   386  536   33.5  4334         3   72.0      8.1      11.2   \n",
       "4       Matt Ryan   342  529   33.1  4095         4   64.7      7.7      12.0   \n",
       "\n",
       "   TD  ...  YDS/ATT_rank  YDS/COMP_rank  TD_rank  INT_rank  QBR_rank  \\\n",
       "0  32  ...          10.5           12.0      3.0      37.0       2.0   \n",
       "1  16  ...          22.5           38.5     24.0      27.5      30.0   \n",
       "2  34  ...          20.0           16.5      1.0      42.5       7.5   \n",
       "3  23  ...           5.5           30.0     11.0      37.0       1.0   \n",
       "4  20  ...          13.0            9.5     17.0      45.0      12.0   \n",
       "\n",
       "   LONG_rank  SACKS_rank  SACK YDS_rank  FUML_rank    salary  \n",
       "0       26.5        49.0           45.0       45.0  20500000  \n",
       "1       17.0        33.0           38.0       24.5  22000000  \n",
       "2       14.5        55.0           57.0       45.0  21900000  \n",
       "3       34.5        28.0           31.0        9.0  24250000  \n",
       "4        3.0        36.5           35.0       45.0  20750000  \n",
       "\n",
       "[5 rows x 32 columns]"
      ]
     },
     "execution_count": 16,
     "metadata": {},
     "output_type": "execute_result"
    }
   ],
   "source": [
    "qbs = pd.read_csv('../Capstone_csv_file/qbs_stats_salary_17-18')\n",
    "qbs.head()"
   ]
  },
  {
   "cell_type": "code",
   "execution_count": 17,
   "metadata": {},
   "outputs": [
    {
     "data": {
      "text/plain": [
       "Index(['NAME', 'COMP', 'ATT', 'ATT/G', 'YDS', '300+ YDS', 'COMP%', 'YDS/ATT',\n",
       "       'YDS/COMP', 'TD', 'INT', 'QBR', 'LONG', 'SACKS', 'SACK YDS', 'FUML',\n",
       "       'COMP_rank', 'ATT_rank', 'ATT/G_rank', 'YDS_rank', '300+ YDS_rank',\n",
       "       'COMP%_rank', 'YDS/ATT_rank', 'YDS/COMP_rank', 'TD_rank', 'INT_rank',\n",
       "       'QBR_rank', 'LONG_rank', 'SACKS_rank', 'SACK YDS_rank', 'FUML_rank',\n",
       "       'salary'],\n",
       "      dtype='object')"
      ]
     },
     "execution_count": 17,
     "metadata": {},
     "output_type": "execute_result"
    }
   ],
   "source": [
    "qbs.columns"
   ]
  },
  {
   "cell_type": "code",
   "execution_count": 18,
   "metadata": {},
   "outputs": [],
   "source": [
    "model = LinearRegression()"
   ]
  },
  {
   "cell_type": "code",
   "execution_count": 19,
   "metadata": {},
   "outputs": [],
   "source": [
    "X = qbs[['COMP', 'ATT', 'ATT/G', 'YDS', '300+ YDS', 'COMP%', 'YDS/ATT',\n",
    "         'YDS/COMP', 'TD', 'INT', 'QBR', 'LONG', 'SACKS', 'SACK YDS',\n",
    "         'FUML']]\n",
    "y = qbs['salary']"
   ]
  },
  {
   "cell_type": "code",
   "execution_count": 20,
   "metadata": {},
   "outputs": [
    {
     "data": {
      "text/plain": [
       "(39, 15)"
      ]
     },
     "execution_count": 20,
     "metadata": {},
     "output_type": "execute_result"
    }
   ],
   "source": [
    "X.shape"
   ]
  },
  {
   "cell_type": "code",
   "execution_count": 21,
   "metadata": {},
   "outputs": [
    {
     "data": {
      "text/plain": [
       "(39,)"
      ]
     },
     "execution_count": 21,
     "metadata": {},
     "output_type": "execute_result"
    }
   ],
   "source": [
    "y.shape"
   ]
  },
  {
   "cell_type": "code",
   "execution_count": 22,
   "metadata": {},
   "outputs": [
    {
     "data": {
      "text/plain": [
       "LinearRegression(copy_X=True, fit_intercept=True, n_jobs=None, normalize=False)"
      ]
     },
     "execution_count": 22,
     "metadata": {},
     "output_type": "execute_result"
    }
   ],
   "source": [
    "model.fit(X, y)"
   ]
  },
  {
   "cell_type": "code",
   "execution_count": 23,
   "metadata": {},
   "outputs": [],
   "source": [
    "y_pred = model.predict(X)"
   ]
  },
  {
   "cell_type": "code",
   "execution_count": 24,
   "metadata": {},
   "outputs": [],
   "source": [
    "def MSE(y_true, y_pred):\n",
    "    squared_error = 0\n",
    "    for i in range(len(y_true)):\n",
    "        squared_error += (y_true[i] - y_pred[i]) ** 2\n",
    "    return squared_error / len(y_true)"
   ]
  },
  {
   "cell_type": "code",
   "execution_count": 25,
   "metadata": {},
   "outputs": [
    {
     "data": {
      "text/plain": [
       "5453976.785067329"
      ]
     },
     "execution_count": 25,
     "metadata": {},
     "output_type": "execute_result"
    }
   ],
   "source": [
    "np.sqrt(MSE(y, y_pred))"
   ]
  },
  {
   "cell_type": "code",
   "execution_count": 26,
   "metadata": {},
   "outputs": [
    {
     "data": {
      "text/plain": [
       "182369271.87534565"
      ]
     },
     "execution_count": 26,
     "metadata": {},
     "output_type": "execute_result"
    }
   ],
   "source": [
    "model.intercept_"
   ]
  },
  {
   "cell_type": "code",
   "execution_count": 27,
   "metadata": {},
   "outputs": [
    {
     "data": {
      "text/plain": [
       "array([-3.25918921e+04,  9.90861433e+04,  4.27605378e+05, -7.31299342e+03,\n",
       "        1.51585322e+06, -2.94928773e+06,  3.25541467e+07, -2.06332852e+07,\n",
       "        1.40858951e+05, -7.04870223e+04, -1.17608259e+05, -7.22723283e+04,\n",
       "       -3.13174556e+05,  6.70112780e+04, -6.89653286e+05])"
      ]
     },
     "execution_count": 27,
     "metadata": {},
     "output_type": "execute_result"
    }
   ],
   "source": [
    "model.coef_"
   ]
  },
  {
   "cell_type": "code",
   "execution_count": 28,
   "metadata": {},
   "outputs": [
    {
     "data": {
      "image/png": "[encoded data removed]",
      "text/plain": [
       "<Figure size 864x648 with 1 Axes>"
      ]
     },
     "metadata": {
      "needs_background": "light"
     },
     "output_type": "display_data"
    }
   ],
   "source": [
    "plt.figure(figsize=(12,9))\n",
    "\n",
    "plt.scatter(y_pred, y, s=5, color='black')\n",
    "\n",
    "plt.plot([0, np.max(y)],\n",
    "         [0, np.max(y)],\n",
    "         color = 'red')\n",
    "\n",
    "plt.xlabel(\"Predicted Values: $\\hat{y}$\", fontsize = 20)\n",
    "plt.ylabel(\"Actual Values: $y$\", fontsize = 20)\n",
    "plt.title('Predicted Values vs. Actual Values', fontsize = 24);"
   ]
  },
  {
   "cell_type": "code",
   "execution_count": 29,
   "metadata": {},
   "outputs": [
    {
     "data": {
      "text/plain": [
       "0.6244984221922893"
      ]
     },
     "execution_count": 29,
     "metadata": {},
     "output_type": "execute_result"
    }
   ],
   "source": [
    "r2_score(y, y_pred)"
   ]
  }
 ],
 "metadata": {
  "kernelspec": {
   "display_name": "Python 3",
   "language": "python",
   "name": "python3"
  },
  "language_info": {
   "codemirror_mode": {
    "name": "ipython",
    "version": 3
   },
   "file_extension": ".py",
   "mimetype": "text/x-python",
   "name": "python",
   "nbconvert_exporter": "python",
   "pygments_lexer": "ipython3",
   "version": "3.7.3"
  }
 },
 "nbformat": 4,
 "nbformat_minor": 4
}
