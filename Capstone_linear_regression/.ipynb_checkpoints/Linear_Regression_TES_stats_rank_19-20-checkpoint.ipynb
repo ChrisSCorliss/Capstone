{
 "cells": [
  {
   "cell_type": "markdown",
   "metadata": {},
   "source": [
    "# Linear Regression"
   ]
  },
  {
   "cell_type": "code",
   "execution_count": 9,
   "metadata": {},
   "outputs": [],
   "source": [
    "import pandas as pd\n",
    "import numpy as np\n",
    "import matplotlib.pyplot as plt\n",
    "from sklearn.linear_model import LinearRegression\n",
    "from sklearn.metrics import r2_score"
   ]
  },
  {
   "cell_type": "code",
   "execution_count": 10,
   "metadata": {},
   "outputs": [
    {
     "data": {
      "text/html": [
       "<div>\n",
       "<style scoped>\n",
       "    .dataframe tbody tr th:only-of-type {\n",
       "        vertical-align: middle;\n",
       "    }\n",
       "\n",
       "    .dataframe tbody tr th {\n",
       "        vertical-align: top;\n",
       "    }\n",
       "\n",
       "    .dataframe thead th {\n",
       "        text-align: right;\n",
       "    }\n",
       "</style>\n",
       "<table border=\"1\" class=\"dataframe\">\n",
       "  <thead>\n",
       "    <tr style=\"text-align: right;\">\n",
       "      <th></th>\n",
       "      <th>NAME</th>\n",
       "      <th>TGT</th>\n",
       "      <th>REC</th>\n",
       "      <th>TGT/G</th>\n",
       "      <th>100+ YDS</th>\n",
       "      <th>YDS/REC</th>\n",
       "      <th>TD</th>\n",
       "      <th>LONG</th>\n",
       "      <th>FUM</th>\n",
       "      <th>FUML</th>\n",
       "      <th>...</th>\n",
       "      <th>REC_rank</th>\n",
       "      <th>TGT/G_rank</th>\n",
       "      <th>100+ YDS_rank</th>\n",
       "      <th>YDS/REC_rank</th>\n",
       "      <th>TD_rank</th>\n",
       "      <th>LONG_rank</th>\n",
       "      <th>FUM_rank</th>\n",
       "      <th>FUML_rank</th>\n",
       "      <th>overall</th>\n",
       "      <th>salary</th>\n",
       "    </tr>\n",
       "  </thead>\n",
       "  <tbody>\n",
       "    <tr>\n",
       "      <th>0</th>\n",
       "      <td>Golden Tate</td>\n",
       "      <td>85</td>\n",
       "      <td>49</td>\n",
       "      <td>7.7</td>\n",
       "      <td>1</td>\n",
       "      <td>13.8</td>\n",
       "      <td>6</td>\n",
       "      <td>64</td>\n",
       "      <td>1</td>\n",
       "      <td>1</td>\n",
       "      <td>...</td>\n",
       "      <td>49.0</td>\n",
       "      <td>22.5</td>\n",
       "      <td>57.0</td>\n",
       "      <td>52.0</td>\n",
       "      <td>26.5</td>\n",
       "      <td>25.0</td>\n",
       "      <td>102.0</td>\n",
       "      <td>116.5</td>\n",
       "      <td>55.055556</td>\n",
       "      <td>9375000</td>\n",
       "    </tr>\n",
       "    <tr>\n",
       "      <th>1</th>\n",
       "      <td>N'Keal Harry</td>\n",
       "      <td>24</td>\n",
       "      <td>12</td>\n",
       "      <td>3.4</td>\n",
       "      <td>0</td>\n",
       "      <td>8.8</td>\n",
       "      <td>2</td>\n",
       "      <td>18</td>\n",
       "      <td>0</td>\n",
       "      <td>0</td>\n",
       "      <td>...</td>\n",
       "      <td>125.5</td>\n",
       "      <td>94.5</td>\n",
       "      <td>102.5</td>\n",
       "      <td>127.0</td>\n",
       "      <td>84.0</td>\n",
       "      <td>132.5</td>\n",
       "      <td>44.0</td>\n",
       "      <td>51.0</td>\n",
       "      <td>98.166667</td>\n",
       "      <td>2524587</td>\n",
       "    </tr>\n",
       "    <tr>\n",
       "      <th>2</th>\n",
       "      <td>DeAndre Hopkins</td>\n",
       "      <td>150</td>\n",
       "      <td>104</td>\n",
       "      <td>10.0</td>\n",
       "      <td>5</td>\n",
       "      <td>11.2</td>\n",
       "      <td>7</td>\n",
       "      <td>43</td>\n",
       "      <td>0</td>\n",
       "      <td>0</td>\n",
       "      <td>...</td>\n",
       "      <td>2.5</td>\n",
       "      <td>4.0</td>\n",
       "      <td>6.5</td>\n",
       "      <td>99.0</td>\n",
       "      <td>15.5</td>\n",
       "      <td>79.5</td>\n",
       "      <td>44.0</td>\n",
       "      <td>51.0</td>\n",
       "      <td>34.111111</td>\n",
       "      <td>16200000</td>\n",
       "    </tr>\n",
       "    <tr>\n",
       "      <th>3</th>\n",
       "      <td>Julio Jones</td>\n",
       "      <td>156</td>\n",
       "      <td>99</td>\n",
       "      <td>10.4</td>\n",
       "      <td>6</td>\n",
       "      <td>14.1</td>\n",
       "      <td>6</td>\n",
       "      <td>54</td>\n",
       "      <td>1</td>\n",
       "      <td>0</td>\n",
       "      <td>...</td>\n",
       "      <td>5.0</td>\n",
       "      <td>3.0</td>\n",
       "      <td>2.5</td>\n",
       "      <td>41.0</td>\n",
       "      <td>26.5</td>\n",
       "      <td>40.5</td>\n",
       "      <td>102.0</td>\n",
       "      <td>51.0</td>\n",
       "      <td>30.388889</td>\n",
       "      <td>22000000</td>\n",
       "    </tr>\n",
       "    <tr>\n",
       "      <th>4</th>\n",
       "      <td>Keenan Allen</td>\n",
       "      <td>149</td>\n",
       "      <td>104</td>\n",
       "      <td>9.3</td>\n",
       "      <td>2</td>\n",
       "      <td>11.5</td>\n",
       "      <td>6</td>\n",
       "      <td>45</td>\n",
       "      <td>0</td>\n",
       "      <td>0</td>\n",
       "      <td>...</td>\n",
       "      <td>2.5</td>\n",
       "      <td>8.0</td>\n",
       "      <td>36.5</td>\n",
       "      <td>94.0</td>\n",
       "      <td>26.5</td>\n",
       "      <td>69.5</td>\n",
       "      <td>44.0</td>\n",
       "      <td>51.0</td>\n",
       "      <td>37.555556</td>\n",
       "      <td>11250000</td>\n",
       "    </tr>\n",
       "  </tbody>\n",
       "</table>\n",
       "<p>5 rows × 21 columns</p>\n",
       "</div>"
      ],
      "text/plain": [
       "              NAME  TGT  REC  TGT/G  100+ YDS  YDS/REC  TD  LONG  FUM  FUML  \\\n",
       "0      Golden Tate   85   49    7.7         1     13.8   6    64    1     1   \n",
       "1     N'Keal Harry   24   12    3.4         0      8.8   2    18    0     0   \n",
       "2  DeAndre Hopkins  150  104   10.0         5     11.2   7    43    0     0   \n",
       "3      Julio Jones  156   99   10.4         6     14.1   6    54    1     0   \n",
       "4     Keenan Allen  149  104    9.3         2     11.5   6    45    0     0   \n",
       "\n",
       "   ...  REC_rank  TGT/G_rank  100+ YDS_rank  YDS/REC_rank  TD_rank  LONG_rank  \\\n",
       "0  ...      49.0        22.5           57.0          52.0     26.5       25.0   \n",
       "1  ...     125.5        94.5          102.5         127.0     84.0      132.5   \n",
       "2  ...       2.5         4.0            6.5          99.0     15.5       79.5   \n",
       "3  ...       5.0         3.0            2.5          41.0     26.5       40.5   \n",
       "4  ...       2.5         8.0           36.5          94.0     26.5       69.5   \n",
       "\n",
       "   FUM_rank  FUML_rank    overall    salary  \n",
       "0     102.0      116.5  55.055556   9375000  \n",
       "1      44.0       51.0  98.166667   2524587  \n",
       "2      44.0       51.0  34.111111  16200000  \n",
       "3     102.0       51.0  30.388889  22000000  \n",
       "4      44.0       51.0  37.555556  11250000  \n",
       "\n",
       "[5 rows x 21 columns]"
      ]
     },
     "execution_count": 10,
     "metadata": {},
     "output_type": "execute_result"
    }
   ],
   "source": [
    "wrs = pd.read_csv('../Capstone_csv_file/wrs_stats_salary_19-20')\n",
    "wrs.head()"
   ]
  },
  {
   "cell_type": "code",
   "execution_count": 11,
   "metadata": {},
   "outputs": [
    {
     "data": {
      "text/plain": [
       "Index(['NAME', 'TGT', 'REC', 'TGT/G', '100+ YDS', 'YDS/REC', 'TD', 'LONG',\n",
       "       'FUM', 'FUML', 'TGT_rank', 'REC_rank', 'TGT/G_rank', '100+ YDS_rank',\n",
       "       'YDS/REC_rank', 'TD_rank', 'LONG_rank', 'FUM_rank', 'FUML_rank',\n",
       "       'overall', 'salary'],\n",
       "      dtype='object')"
      ]
     },
     "execution_count": 11,
     "metadata": {},
     "output_type": "execute_result"
    }
   ],
   "source": [
    "wrs.columns"
   ]
  },
  {
   "cell_type": "code",
   "execution_count": 12,
   "metadata": {},
   "outputs": [],
   "source": [
    "model = LinearRegression()"
   ]
  },
  {
   "cell_type": "code",
   "execution_count": 13,
   "metadata": {},
   "outputs": [],
   "source": [
    "X = wrs[['TGT', 'REC', 'TGT/G', '100+ YDS', 'YDS/REC', 'TD',\n",
    "         'LONG', 'FUM', 'FUML']]\n",
    "y = wrs['salary']"
   ]
  },
  {
   "cell_type": "code",
   "execution_count": 14,
   "metadata": {},
   "outputs": [
    {
     "data": {
      "text/plain": [
       "(76, 9)"
      ]
     },
     "execution_count": 14,
     "metadata": {},
     "output_type": "execute_result"
    }
   ],
   "source": [
    "X.shape"
   ]
  },
  {
   "cell_type": "code",
   "execution_count": 15,
   "metadata": {},
   "outputs": [
    {
     "data": {
      "text/plain": [
       "(76,)"
      ]
     },
     "execution_count": 15,
     "metadata": {},
     "output_type": "execute_result"
    }
   ],
   "source": [
    "y.shape"
   ]
  },
  {
   "cell_type": "code",
   "execution_count": 16,
   "metadata": {},
   "outputs": [
    {
     "data": {
      "text/plain": [
       "LinearRegression(copy_X=True, fit_intercept=True, n_jobs=None, normalize=False)"
      ]
     },
     "execution_count": 16,
     "metadata": {},
     "output_type": "execute_result"
    }
   ],
   "source": [
    "model.fit(X, y)"
   ]
  },
  {
   "cell_type": "code",
   "execution_count": 17,
   "metadata": {},
   "outputs": [],
   "source": [
    "y_pred = model.predict(X)"
   ]
  },
  {
   "cell_type": "code",
   "execution_count": 18,
   "metadata": {},
   "outputs": [],
   "source": [
    "def MSE(y_true, y_pred):\n",
    "    squared_error = 0\n",
    "    for i in range(len(y_true)):\n",
    "        squared_error += (y_true[i] - y_pred[i]) ** 2\n",
    "    return squared_error / len(y_true)"
   ]
  },
  {
   "cell_type": "code",
   "execution_count": 19,
   "metadata": {},
   "outputs": [
    {
     "data": {
      "text/plain": [
       "4563705.41433049"
      ]
     },
     "execution_count": 19,
     "metadata": {},
     "output_type": "execute_result"
    }
   ],
   "source": [
    "np.sqrt(MSE(y, y_pred))"
   ]
  },
  {
   "cell_type": "code",
   "execution_count": 20,
   "metadata": {},
   "outputs": [
    {
     "data": {
      "text/plain": [
       "-1837394.9788328316"
      ]
     },
     "execution_count": 20,
     "metadata": {},
     "output_type": "execute_result"
    }
   ],
   "source": [
    "model.intercept_"
   ]
  },
  {
   "cell_type": "code",
   "execution_count": 21,
   "metadata": {},
   "outputs": [
    {
     "data": {
      "text/plain": [
       "array([ -198222.19758337,   258504.25216506,  1982304.83651646,\n",
       "        -413602.87204476,   287928.37403701,   -32261.7961245 ,\n",
       "         -68512.24706704, -1342057.7595518 ,  1353706.89462649])"
      ]
     },
     "execution_count": 21,
     "metadata": {},
     "output_type": "execute_result"
    }
   ],
   "source": [
    "model.coef_"
   ]
  },
  {
   "cell_type": "code",
   "execution_count": 22,
   "metadata": {},
   "outputs": [
    {
     "data": {
      "image/png": "[encoded data removed]",
      "text/plain": [
       "<Figure size 864x648 with 1 Axes>"
      ]
     },
     "metadata": {
      "needs_background": "light"
     },
     "output_type": "display_data"
    }
   ],
   "source": [
    "plt.figure(figsize=(12,9))\n",
    "\n",
    "plt.scatter(y_pred, y, s=5, color='black')\n",
    "\n",
    "plt.plot([0, np.max(y)],\n",
    "         [0, np.max(y)],\n",
    "         color = 'red')\n",
    "\n",
    "plt.xlabel(\"Predicted Values: $\\hat{y}$\", fontsize = 20)\n",
    "plt.ylabel(\"Actual Values: $y$\", fontsize = 20)\n",
    "plt.title('Predicted Values vs. Actual Values', fontsize = 24);"
   ]
  },
  {
   "cell_type": "code",
   "execution_count": 23,
   "metadata": {},
   "outputs": [
    {
     "data": {
      "text/plain": [
       "0.36148366316545566"
      ]
     },
     "execution_count": 23,
     "metadata": {},
     "output_type": "execute_result"
    }
   ],
   "source": [
    "r2_score(y, y_pred)"
   ]
  },
  {
   "cell_type": "code",
   "execution_count": null,
   "metadata": {},
   "outputs": [],
   "source": []
  }
 ],
 "metadata": {
  "kernelspec": {
   "display_name": "Python 3",
   "language": "python",
   "name": "python3"
  },
  "language_info": {
   "codemirror_mode": {
    "name": "ipython",
    "version": 3
   },
   "file_extension": ".py",
   "mimetype": "text/x-python",
   "name": "python",
   "nbconvert_exporter": "python",
   "pygments_lexer": "ipython3",
   "version": "3.7.3"
  }
 },
 "nbformat": 4,
 "nbformat_minor": 4
}
