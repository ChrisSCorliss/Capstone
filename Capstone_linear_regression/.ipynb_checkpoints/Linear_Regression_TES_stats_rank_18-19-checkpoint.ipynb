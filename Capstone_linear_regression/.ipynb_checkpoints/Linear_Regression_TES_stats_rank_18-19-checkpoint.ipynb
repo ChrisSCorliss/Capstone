{
 "cells": [
  {
   "cell_type": "markdown",
   "metadata": {},
   "source": [
    "# Linear Regression"
   ]
  },
  {
   "cell_type": "code",
   "execution_count": 1,
   "metadata": {},
   "outputs": [],
   "source": [
    "import pandas as pd\n",
    "import numpy as np\n",
    "import matplotlib.pyplot as plt\n",
    "from sklearn.linear_model import LinearRegression\n",
    "from sklearn.metrics import r2_score"
   ]
  },
  {
   "cell_type": "code",
   "execution_count": 2,
   "metadata": {},
   "outputs": [
    {
     "data": {
      "text/html": [
       "<div>\n",
       "<style scoped>\n",
       "    .dataframe tbody tr th:only-of-type {\n",
       "        vertical-align: middle;\n",
       "    }\n",
       "\n",
       "    .dataframe tbody tr th {\n",
       "        vertical-align: top;\n",
       "    }\n",
       "\n",
       "    .dataframe thead th {\n",
       "        text-align: right;\n",
       "    }\n",
       "</style>\n",
       "<table border=\"1\" class=\"dataframe\">\n",
       "  <thead>\n",
       "    <tr style=\"text-align: right;\">\n",
       "      <th></th>\n",
       "      <th>NAME</th>\n",
       "      <th>TGT</th>\n",
       "      <th>REC</th>\n",
       "      <th>TGT/G</th>\n",
       "      <th>YDS</th>\n",
       "      <th>100+ YDS</th>\n",
       "      <th>YDS/REC</th>\n",
       "      <th>TD</th>\n",
       "      <th>LONG</th>\n",
       "      <th>FUM</th>\n",
       "      <th>...</th>\n",
       "      <th>REC_rank</th>\n",
       "      <th>TGT/G_rank</th>\n",
       "      <th>100+ YDS_rank</th>\n",
       "      <th>YDS/REC_rank</th>\n",
       "      <th>TD_rank</th>\n",
       "      <th>LONG_rank</th>\n",
       "      <th>FUM_rank</th>\n",
       "      <th>FUML_rank</th>\n",
       "      <th>overall</th>\n",
       "      <th>salary</th>\n",
       "    </tr>\n",
       "  </thead>\n",
       "  <tbody>\n",
       "    <tr>\n",
       "      <th>0</th>\n",
       "      <td>Demetrius Harris</td>\n",
       "      <td>25</td>\n",
       "      <td>12</td>\n",
       "      <td>1.7</td>\n",
       "      <td>164</td>\n",
       "      <td>0</td>\n",
       "      <td>13.7</td>\n",
       "      <td>3</td>\n",
       "      <td>35</td>\n",
       "      <td>0</td>\n",
       "      <td>...</td>\n",
       "      <td>58.5</td>\n",
       "      <td>51.5</td>\n",
       "      <td>37.5</td>\n",
       "      <td>7.0</td>\n",
       "      <td>21.5</td>\n",
       "      <td>28.0</td>\n",
       "      <td>22.5</td>\n",
       "      <td>25.5</td>\n",
       "      <td>35.30</td>\n",
       "      <td>2100000</td>\n",
       "    </tr>\n",
       "    <tr>\n",
       "      <th>1</th>\n",
       "      <td>Hayden Hurst</td>\n",
       "      <td>23</td>\n",
       "      <td>13</td>\n",
       "      <td>1.9</td>\n",
       "      <td>163</td>\n",
       "      <td>0</td>\n",
       "      <td>12.5</td>\n",
       "      <td>1</td>\n",
       "      <td>32</td>\n",
       "      <td>0</td>\n",
       "      <td>...</td>\n",
       "      <td>55.5</td>\n",
       "      <td>48.5</td>\n",
       "      <td>37.5</td>\n",
       "      <td>16.0</td>\n",
       "      <td>45.5</td>\n",
       "      <td>33.0</td>\n",
       "      <td>22.5</td>\n",
       "      <td>25.5</td>\n",
       "      <td>39.00</td>\n",
       "      <td>2759007</td>\n",
       "    </tr>\n",
       "    <tr>\n",
       "      <th>2</th>\n",
       "      <td>Vance McDonald</td>\n",
       "      <td>73</td>\n",
       "      <td>50</td>\n",
       "      <td>4.9</td>\n",
       "      <td>610</td>\n",
       "      <td>1</td>\n",
       "      <td>12.2</td>\n",
       "      <td>4</td>\n",
       "      <td>75</td>\n",
       "      <td>2</td>\n",
       "      <td>...</td>\n",
       "      <td>12.0</td>\n",
       "      <td>14.0</td>\n",
       "      <td>9.0</td>\n",
       "      <td>18.5</td>\n",
       "      <td>12.5</td>\n",
       "      <td>2.5</td>\n",
       "      <td>60.5</td>\n",
       "      <td>56.0</td>\n",
       "      <td>20.80</td>\n",
       "      <td>6550000</td>\n",
       "    </tr>\n",
       "    <tr>\n",
       "      <th>3</th>\n",
       "      <td>Rob Gronkowski</td>\n",
       "      <td>72</td>\n",
       "      <td>47</td>\n",
       "      <td>5.5</td>\n",
       "      <td>682</td>\n",
       "      <td>2</td>\n",
       "      <td>14.5</td>\n",
       "      <td>3</td>\n",
       "      <td>42</td>\n",
       "      <td>1</td>\n",
       "      <td>...</td>\n",
       "      <td>13.0</td>\n",
       "      <td>11.0</td>\n",
       "      <td>5.0</td>\n",
       "      <td>5.0</td>\n",
       "      <td>21.5</td>\n",
       "      <td>19.0</td>\n",
       "      <td>51.5</td>\n",
       "      <td>56.0</td>\n",
       "      <td>20.10</td>\n",
       "      <td>9000000</td>\n",
       "    </tr>\n",
       "    <tr>\n",
       "      <th>4</th>\n",
       "      <td>Travis Kelce</td>\n",
       "      <td>150</td>\n",
       "      <td>103</td>\n",
       "      <td>9.4</td>\n",
       "      <td>1336</td>\n",
       "      <td>5</td>\n",
       "      <td>13.0</td>\n",
       "      <td>10</td>\n",
       "      <td>43</td>\n",
       "      <td>2</td>\n",
       "      <td>...</td>\n",
       "      <td>2.0</td>\n",
       "      <td>2.0</td>\n",
       "      <td>1.5</td>\n",
       "      <td>10.0</td>\n",
       "      <td>2.0</td>\n",
       "      <td>17.5</td>\n",
       "      <td>60.5</td>\n",
       "      <td>56.0</td>\n",
       "      <td>15.55</td>\n",
       "      <td>9368400</td>\n",
       "    </tr>\n",
       "  </tbody>\n",
       "</table>\n",
       "<p>5 rows × 23 columns</p>\n",
       "</div>"
      ],
      "text/plain": [
       "               NAME  TGT  REC  TGT/G   YDS  100+ YDS  YDS/REC  TD  LONG  FUM  \\\n",
       "0  Demetrius Harris   25   12    1.7   164         0     13.7   3    35    0   \n",
       "1      Hayden Hurst   23   13    1.9   163         0     12.5   1    32    0   \n",
       "2    Vance McDonald   73   50    4.9   610         1     12.2   4    75    2   \n",
       "3    Rob Gronkowski   72   47    5.5   682         2     14.5   3    42    1   \n",
       "4      Travis Kelce  150  103    9.4  1336         5     13.0  10    43    2   \n",
       "\n",
       "   ...  REC_rank  TGT/G_rank  100+ YDS_rank  YDS/REC_rank  TD_rank  LONG_rank  \\\n",
       "0  ...      58.5        51.5           37.5           7.0     21.5       28.0   \n",
       "1  ...      55.5        48.5           37.5          16.0     45.5       33.0   \n",
       "2  ...      12.0        14.0            9.0          18.5     12.5        2.5   \n",
       "3  ...      13.0        11.0            5.0           5.0     21.5       19.0   \n",
       "4  ...       2.0         2.0            1.5          10.0      2.0       17.5   \n",
       "\n",
       "   FUM_rank  FUML_rank  overall   salary  \n",
       "0      22.5       25.5    35.30  2100000  \n",
       "1      22.5       25.5    39.00  2759007  \n",
       "2      60.5       56.0    20.80  6550000  \n",
       "3      51.5       56.0    20.10  9000000  \n",
       "4      60.5       56.0    15.55  9368400  \n",
       "\n",
       "[5 rows x 23 columns]"
      ]
     },
     "execution_count": 2,
     "metadata": {},
     "output_type": "execute_result"
    }
   ],
   "source": [
    "tes = pd.read_csv('../Capstone_csv_file/tes_stats_salary_18-19')\n",
    "tes.head()"
   ]
  },
  {
   "cell_type": "code",
   "execution_count": 3,
   "metadata": {},
   "outputs": [
    {
     "data": {
      "text/plain": [
       "Index(['NAME', 'TGT', 'REC', 'TGT/G', 'YDS', '100+ YDS', 'YDS/REC', 'TD',\n",
       "       'LONG', 'FUM', 'FUML', 'YDS_rank', 'TGT_rank', 'REC_rank', 'TGT/G_rank',\n",
       "       '100+ YDS_rank', 'YDS/REC_rank', 'TD_rank', 'LONG_rank', 'FUM_rank',\n",
       "       'FUML_rank', 'overall', 'salary'],\n",
       "      dtype='object')"
      ]
     },
     "execution_count": 3,
     "metadata": {},
     "output_type": "execute_result"
    }
   ],
   "source": [
    "tes.columns"
   ]
  },
  {
   "cell_type": "code",
   "execution_count": 4,
   "metadata": {},
   "outputs": [],
   "source": [
    "model = LinearRegression()"
   ]
  },
  {
   "cell_type": "code",
   "execution_count": 5,
   "metadata": {},
   "outputs": [],
   "source": [
    "X = tes[['TGT', 'REC', 'TGT/G', '100+ YDS', 'YDS/REC', 'TD',\n",
    "         'LONG', 'FUM', 'FUML']]\n",
    "y = tes['salary']"
   ]
  },
  {
   "cell_type": "code",
   "execution_count": 6,
   "metadata": {},
   "outputs": [
    {
     "data": {
      "text/plain": [
       "(36, 9)"
      ]
     },
     "execution_count": 6,
     "metadata": {},
     "output_type": "execute_result"
    }
   ],
   "source": [
    "X.shape"
   ]
  },
  {
   "cell_type": "code",
   "execution_count": 7,
   "metadata": {},
   "outputs": [
    {
     "data": {
      "text/plain": [
       "(36,)"
      ]
     },
     "execution_count": 7,
     "metadata": {},
     "output_type": "execute_result"
    }
   ],
   "source": [
    "y.shape"
   ]
  },
  {
   "cell_type": "code",
   "execution_count": 8,
   "metadata": {},
   "outputs": [
    {
     "data": {
      "text/plain": [
       "LinearRegression(copy_X=True, fit_intercept=True, n_jobs=None, normalize=False)"
      ]
     },
     "execution_count": 8,
     "metadata": {},
     "output_type": "execute_result"
    }
   ],
   "source": [
    "model.fit(X, y)"
   ]
  },
  {
   "cell_type": "code",
   "execution_count": 9,
   "metadata": {},
   "outputs": [],
   "source": [
    "y_pred = model.predict(X)"
   ]
  },
  {
   "cell_type": "code",
   "execution_count": 10,
   "metadata": {},
   "outputs": [],
   "source": [
    "def MSE(y_true, y_pred):\n",
    "    squared_error = 0\n",
    "    for i in range(len(y_true)):\n",
    "        squared_error += (y_true[i] - y_pred[i]) ** 2\n",
    "    return squared_error / len(y_true)"
   ]
  },
  {
   "cell_type": "code",
   "execution_count": 11,
   "metadata": {},
   "outputs": [
    {
     "data": {
      "text/plain": [
       "1768190.8873414581"
      ]
     },
     "execution_count": 11,
     "metadata": {},
     "output_type": "execute_result"
    }
   ],
   "source": [
    "np.sqrt(MSE(y, y_pred))"
   ]
  },
  {
   "cell_type": "code",
   "execution_count": 12,
   "metadata": {},
   "outputs": [
    {
     "data": {
      "text/plain": [
       "1095270.9423635164"
      ]
     },
     "execution_count": 12,
     "metadata": {},
     "output_type": "execute_result"
    }
   ],
   "source": [
    "model.intercept_"
   ]
  },
  {
   "cell_type": "code",
   "execution_count": 13,
   "metadata": {},
   "outputs": [
    {
     "data": {
      "text/plain": [
       "array([  11829.19140404,  -23652.31993988, 1073965.81724804,\n",
       "        121715.81827972,   38087.3951816 , -121721.81992339,\n",
       "        -28986.74395627, -659839.47351068, 2416366.83733888])"
      ]
     },
     "execution_count": 13,
     "metadata": {},
     "output_type": "execute_result"
    }
   ],
   "source": [
    "model.coef_"
   ]
  },
  {
   "cell_type": "code",
   "execution_count": 14,
   "metadata": {},
   "outputs": [
    {
     "data": {
      "image/png": "[encoded data removed]",
      "text/plain": [
       "<Figure size 864x648 with 1 Axes>"
      ]
     },
     "metadata": {
      "needs_background": "light"
     },
     "output_type": "display_data"
    }
   ],
   "source": [
    "plt.figure(figsize=(12,9))\n",
    "\n",
    "plt.scatter(y_pred, y, s=5, color='black')\n",
    "\n",
    "plt.plot([0, np.max(y)],\n",
    "         [0, np.max(y)],\n",
    "         color = 'red')\n",
    "\n",
    "plt.xlabel(\"Predicted Values: $\\hat{y}$\", fontsize = 20)\n",
    "plt.ylabel(\"Actual Values: $y$\", fontsize = 20)\n",
    "plt.title('Predicted Values vs. Actual Values', fontsize = 24);"
   ]
  },
  {
   "cell_type": "code",
   "execution_count": 15,
   "metadata": {},
   "outputs": [
    {
     "data": {
      "text/plain": [
       "0.61960439459674"
      ]
     },
     "execution_count": 15,
     "metadata": {},
     "output_type": "execute_result"
    }
   ],
   "source": [
    "r2_score(y, y_pred)"
   ]
  },
  {
   "cell_type": "code",
   "execution_count": null,
   "metadata": {},
   "outputs": [],
   "source": []
  }
 ],
 "metadata": {
  "kernelspec": {
   "display_name": "Python 3",
   "language": "python",
   "name": "python3"
  },
  "language_info": {
   "codemirror_mode": {
    "name": "ipython",
    "version": 3
   },
   "file_extension": ".py",
   "mimetype": "text/x-python",
   "name": "python",
   "nbconvert_exporter": "python",
   "pygments_lexer": "ipython3",
   "version": "3.7.3"
  }
 },
 "nbformat": 4,
 "nbformat_minor": 4
}
