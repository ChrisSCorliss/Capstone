{
 "cells": [
  {
   "cell_type": "markdown",
   "metadata": {},
   "source": [
    "# Random Forest"
   ]
  },
  {
   "cell_type": "code",
   "execution_count": 18,
   "metadata": {},
   "outputs": [],
   "source": [
    "import pandas as pd\n",
    "import numpy as np\n",
    "from sklearn.ensemble import RandomForestClassifier, ExtraTreesClassifier\n",
    "from sklearn.model_selection import cross_val_score, train_test_split, GridSearchCV\n",
    "from sklearn.metrics import mean_squared_error"
   ]
  },
  {
   "cell_type": "code",
   "execution_count": 19,
   "metadata": {},
   "outputs": [],
   "source": [
    "qbs = pd.read_csv('../Capstone_csv_file/qbs_stats_salary_18-19')\n",
    "rbs = pd.read_csv('../Capstone_csv_file/rbs_stats_salary_18-19')\n",
    "wrs = pd.read_csv('../Capstone_csv_file/wrs_stats_salary_18-19')\n",
    "tes = pd.read_csv('../Capstone_csv_file/tes_stats_salary_18-19')"
   ]
  },
  {
   "cell_type": "code",
   "execution_count": 20,
   "metadata": {},
   "outputs": [],
   "source": [
    "qbs['category'] = 'qb'\n",
    "rbs['category'] = 'rb'\n",
    "wrs['category'] = 'wr'\n",
    "tes['category'] = 'te'"
   ]
  },
  {
   "cell_type": "code",
   "execution_count": 21,
   "metadata": {},
   "outputs": [],
   "source": [
    "qbs['numerical_category'] = 0\n",
    "rbs['numerical_category'] = 1\n",
    "wrs['numerical_category'] = 2\n",
    "tes['numerical_category'] = 3"
   ]
  },
  {
   "cell_type": "code",
   "execution_count": 22,
   "metadata": {},
   "outputs": [],
   "source": [
    "offense = qbs.append(rbs)\n",
    "offense = offense.append(wrs)\n",
    "offense = offense.append(tes)"
   ]
  },
  {
   "cell_type": "code",
   "execution_count": 23,
   "metadata": {},
   "outputs": [],
   "source": [
    "offense.fillna(0, inplace = True)"
   ]
  },
  {
   "cell_type": "code",
   "execution_count": 24,
   "metadata": {},
   "outputs": [
    {
     "data": {
      "text/plain": [
       "NAME                  0\n",
       "COMP                  0\n",
       "ATT                   0\n",
       "ATT/G                 0\n",
       "YDS                   0\n",
       "300+ YDS              0\n",
       "COMP%                 0\n",
       "YDS/ATT               0\n",
       "YDS/COMP              0\n",
       "TD                    0\n",
       "INT                   0\n",
       "QBR                   0\n",
       "LONG                  0\n",
       "SACKS                 0\n",
       "SACK YDS              0\n",
       "FUML                  0\n",
       "COMP_rank             0\n",
       "ATT_rank              0\n",
       "ATT/G_rank            0\n",
       "YDS_rank              0\n",
       "300+ YDS_rank         0\n",
       "COMP%_rank            0\n",
       "YDS/ATT_rank          0\n",
       "YDS/COMP_rank         0\n",
       "TD_rank               0\n",
       "INT_rank              0\n",
       "QBR_rank              0\n",
       "LONG_rank             0\n",
       "SACKS_rank            0\n",
       "SACK YDS_rank         0\n",
       "FUML_rank             0\n",
       "salary                0\n",
       "category              0\n",
       "numerical_category    0\n",
       "100+ YDS              0\n",
       "FUM                   0\n",
       "100+ YDS_rank         0\n",
       "FUM_rank              0\n",
       "TGT                   0\n",
       "REC                   0\n",
       "TGT/G                 0\n",
       "YDS/REC               0\n",
       "TGT_rank              0\n",
       "REC_rank              0\n",
       "TGT/G_rank            0\n",
       "YDS/REC_rank          0\n",
       "overall               0\n",
       "dtype: int64"
      ]
     },
     "execution_count": 24,
     "metadata": {},
     "output_type": "execute_result"
    }
   ],
   "source": [
    "offense.isnull().sum()"
   ]
  },
  {
   "cell_type": "code",
   "execution_count": 25,
   "metadata": {},
   "outputs": [],
   "source": [
    "features = offense[['COMP', 'ATT', 'ATT/G', 'YDS', '300+ YDS', 'COMP%', 'YDS/ATT', 'YDS/COMP', 'TD', 'INT',\n",
    "                   'QBR', 'LONG', 'SACKS', 'SACK YDS', 'FUML', 'salary', '100+ YDS', 'FUM', 'TGT', 'REC',\n",
    "                   'TGT/G', 'YDS/REC']]"
   ]
  },
  {
   "cell_type": "code",
   "execution_count": 26,
   "metadata": {},
   "outputs": [],
   "source": [
    "X = features\n",
    "y = offense['numerical_category']"
   ]
  },
  {
   "cell_type": "code",
   "execution_count": 27,
   "metadata": {
    "scrolled": false
   },
   "outputs": [
    {
     "data": {
      "text/plain": [
       "2    0.416268\n",
       "1    0.210526\n",
       "0    0.200957\n",
       "3    0.172249\n",
       "Name: numerical_category, dtype: float64"
      ]
     },
     "execution_count": 27,
     "metadata": {},
     "output_type": "execute_result"
    }
   ],
   "source": [
    "y.value_counts(normalize = True)#baseline prediction"
   ]
  },
  {
   "cell_type": "code",
   "execution_count": 28,
   "metadata": {},
   "outputs": [],
   "source": [
    "X_train, X_test, y_train, y_test = train_test_split(X, y,\n",
    "                                                    random_state = 27,\n",
    "                                                    stratify = y)"
   ]
  },
  {
   "cell_type": "code",
   "execution_count": 29,
   "metadata": {},
   "outputs": [],
   "source": [
    "rf = RandomForestClassifier(n_estimators = 100)"
   ]
  },
  {
   "cell_type": "code",
   "execution_count": 30,
   "metadata": {},
   "outputs": [
    {
     "data": {
      "text/plain": [
       "0.8334677419354838"
      ]
     },
     "execution_count": 30,
     "metadata": {},
     "output_type": "execute_result"
    }
   ],
   "source": [
    "cross_val_score(rf, X_train, y_train, cv = 5).mean()"
   ]
  },
  {
   "cell_type": "code",
   "execution_count": 31,
   "metadata": {},
   "outputs": [],
   "source": [
    "rf_params = {\n",
    "    'n_estimators' : [200, 225, 250, 275],\n",
    "    'max_depth' : [None, 2, 3, 5, 10, 15]\n",
    "    \n",
    "}"
   ]
  },
  {
   "cell_type": "code",
   "execution_count": 32,
   "metadata": {},
   "outputs": [
    {
     "name": "stdout",
     "output_type": "stream",
     "text": [
      "0.859274193548387\n"
     ]
    },
    {
     "data": {
      "text/plain": [
       "{'max_depth': None, 'n_estimators': 225}"
      ]
     },
     "execution_count": 32,
     "metadata": {},
     "output_type": "execute_result"
    }
   ],
   "source": [
    "gs = GridSearchCV(rf, param_grid = rf_params, cv=5)\n",
    "gs.fit(X_train, y_train)\n",
    "print(gs.best_score_)\n",
    "gs.best_params_"
   ]
  },
  {
   "cell_type": "code",
   "execution_count": 33,
   "metadata": {},
   "outputs": [
    {
     "data": {
      "text/plain": [
       "1.0"
      ]
     },
     "execution_count": 33,
     "metadata": {},
     "output_type": "execute_result"
    }
   ],
   "source": [
    "gs.score(X_train, y_train)"
   ]
  },
  {
   "cell_type": "code",
   "execution_count": 34,
   "metadata": {},
   "outputs": [
    {
     "data": {
      "text/plain": [
       "0.8490566037735849"
      ]
     },
     "execution_count": 34,
     "metadata": {},
     "output_type": "execute_result"
    }
   ],
   "source": [
    "gs.score(X_test, y_test)"
   ]
  }
 ],
 "metadata": {
  "kernelspec": {
   "display_name": "Python 3",
   "language": "python",
   "name": "python3"
  },
  "language_info": {
   "codemirror_mode": {
    "name": "ipython",
    "version": 3
   },
   "file_extension": ".py",
   "mimetype": "text/x-python",
   "name": "python",
   "nbconvert_exporter": "python",
   "pygments_lexer": "ipython3",
   "version": "3.7.3"
  }
 },
 "nbformat": 4,
 "nbformat_minor": 4
}
